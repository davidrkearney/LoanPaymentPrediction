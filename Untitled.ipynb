{
 "cells": [
  {
   "cell_type": "markdown",
   "metadata": {},
   "source": [
    "\\begin{table}[!htbp] \\centering \n",
    "  \\caption{Specific-Purpose Transfers and General-Purpose Transfers} \n",
    "  \\label{SPT1} \n",
    "\\resizebox{\\textwidth}{!}{\\begin{tabular}{@{\\extracolsep{5pt}}lcc} \n",
    "\\\\[-1.8ex]\\hline \n",
    "\\hline \\\\[-1.8ex] \n",
    " & \\multicolumn{2}{c}{\\textit{Dependent variable:}} \\\\ \n",
    "\\cline{2-3} \n",
    "\\\\[-1.8ex] & Specific-Purpose Transfers (ln) & General-Purpose Transfers (ln) \\\\ \n",
    "\\\\[-1.8ex] & (1) & (2)\\\\ \n",
    "\\hline \\\\[-1.8ex] \n",
    " GDP (ln) & $-$0.185 & $-$3.581 \\\\ \n",
    "  & (0.233) & (4.071) \\\\ \n",
    "  & & \\\\ \n",
    " FDI (ln) & 0.083 & 0.700$^{*}$ \\\\ \n",
    "  & (0.051) & (0.419) \\\\ \n",
    "  & & \\\\ \n",
    " Incumbent Client & 0.830$^{***}$ & 0.739 \\\\ \n",
    "  & (0.159) & (1.531) \\\\ \n",
    "  & & \\\\ \n",
    " Non-Relevant Rival Client & $-$0.238$^{**}$ & 8.241 \\\\ \n",
    "  & (0.120) & (6.081) \\\\ \n",
    "  & & \\\\ \n",
    " Relevant Rival Client & $-$0.291 & 1.463 \\\\ \n",
    "  & (0.219) & (1.443) \\\\ \n",
    "  & & \\\\ \n",
    " Constant & 13.787$^{***}$ & 31.698 \\\\ \n",
    "  & (2.284) & (30.535) \\\\ \n",
    "  & & \\\\ \n",
    "\\hline \\\\[-1.8ex] \n",
    "Observations & 370 & 147 \\\\ \n",
    "R$^{2}$ & 0.852 & 0.287 \\\\ \n",
    "Adjusted R$^{2}$ & 0.828 & 0.036 \\\\ \n",
    "Residual Std. Error & 0.508 (df = 318) & 3.493 (df = 108) \\\\ \n",
    "F Statistic & 35.783$^{***}$ (df = 51; 318) & 1.141 (df = 38; 108) \\\\ \n",
    "\\hline \n",
    "\\hline \\\\[-1.8ex] \n",
    "\\textit{Note:}  & \\multicolumn{2}{r}{$^{*}$p$<$0.1; $^{**}$p$<$0.05; $^{***}$p$<$0.01} \\\\ \n",
    "\\end{tabular}}\n",
    "\\end{table} "
   ]
  },
  {
   "cell_type": "code",
   "execution_count": null,
   "metadata": {},
   "outputs": [],
   "source": []
  }
 ],
 "metadata": {
  "kernelspec": {
   "display_name": "Python 3",
   "language": "python",
   "name": "python3"
  },
  "language_info": {
   "codemirror_mode": {
    "name": "ipython",
    "version": 3
   },
   "file_extension": ".py",
   "mimetype": "text/x-python",
   "name": "python",
   "nbconvert_exporter": "python",
   "pygments_lexer": "ipython3",
   "version": "3.6.8"
  }
 },
 "nbformat": 4,
 "nbformat_minor": 2
}
